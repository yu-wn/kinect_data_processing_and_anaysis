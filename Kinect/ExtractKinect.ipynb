{
 "cells": [
  {
   "cell_type": "code",
   "execution_count": 18,
   "id": "320a0cc0-cf5f-4359-ac07-2a097be90ddb",
   "metadata": {},
   "outputs": [
    {
     "name": "stdout",
     "output_type": "stream",
     "text": [
      "C:\\Users\\miyazakipc\\Desktop\\2024年9月10日　実験\\てすりとキネクト（てすり）\\データ分析\\Kinect\\pos_20240910181810.csvのデータが C:\\Users\\miyazakipc\\Desktop\\2024年9月10日　実験\\てすりとキネクト（てすり）\\データ分析\\Kinect\\抽出後Kinect\\output_1.csv に保存されました。\n",
      "C:\\Users\\miyazakipc\\Desktop\\2024年9月10日　実験\\てすりとキネクト（てすり）\\データ分析\\Kinect\\pos_20240910181845.csvのデータが C:\\Users\\miyazakipc\\Desktop\\2024年9月10日　実験\\てすりとキネクト（てすり）\\データ分析\\Kinect\\抽出後Kinect\\output_2.csv に保存されました。\n",
      "C:\\Users\\miyazakipc\\Desktop\\2024年9月10日　実験\\てすりとキネクト（てすり）\\データ分析\\Kinect\\pos_20240910181935.csvのデータが C:\\Users\\miyazakipc\\Desktop\\2024年9月10日　実験\\てすりとキネクト（てすり）\\データ分析\\Kinect\\抽出後Kinect\\output_3.csv に保存されました。\n",
      "C:\\Users\\miyazakipc\\Desktop\\2024年9月10日　実験\\てすりとキネクト（てすり）\\データ分析\\Kinect\\pos_20240910181957.csvのデータが C:\\Users\\miyazakipc\\Desktop\\2024年9月10日　実験\\てすりとキネクト（てすり）\\データ分析\\Kinect\\抽出後Kinect\\output_4.csv に保存されました。\n",
      "C:\\Users\\miyazakipc\\Desktop\\2024年9月10日　実験\\てすりとキネクト（てすり）\\データ分析\\Kinect\\pos_20240910182016.csvのデータが C:\\Users\\miyazakipc\\Desktop\\2024年9月10日　実験\\てすりとキネクト（てすり）\\データ分析\\Kinect\\抽出後Kinect\\output_5.csv に保存されました。\n",
      "C:\\Users\\miyazakipc\\Desktop\\2024年9月10日　実験\\てすりとキネクト（てすり）\\データ分析\\Kinect\\pos_20240910182038.csvのデータが C:\\Users\\miyazakipc\\Desktop\\2024年9月10日　実験\\てすりとキネクト（てすり）\\データ分析\\Kinect\\抽出後Kinect\\output_6.csv に保存されました。\n",
      "C:\\Users\\miyazakipc\\Desktop\\2024年9月10日　実験\\てすりとキネクト（てすり）\\データ分析\\Kinect\\pos_20240910182100.csvのデータが C:\\Users\\miyazakipc\\Desktop\\2024年9月10日　実験\\てすりとキネクト（てすり）\\データ分析\\Kinect\\抽出後Kinect\\output_7.csv に保存されました。\n",
      "C:\\Users\\miyazakipc\\Desktop\\2024年9月10日　実験\\てすりとキネクト（てすり）\\データ分析\\Kinect\\pos_20240910182121.csvのデータが C:\\Users\\miyazakipc\\Desktop\\2024年9月10日　実験\\てすりとキネクト（てすり）\\データ分析\\Kinect\\抽出後Kinect\\output_8.csv に保存されました。\n",
      "C:\\Users\\miyazakipc\\Desktop\\2024年9月10日　実験\\てすりとキネクト（てすり）\\データ分析\\Kinect\\pos_20240910182141.csvのデータが C:\\Users\\miyazakipc\\Desktop\\2024年9月10日　実験\\てすりとキネクト（てすり）\\データ分析\\Kinect\\抽出後Kinect\\output_9.csv に保存されました。\n",
      "C:\\Users\\miyazakipc\\Desktop\\2024年9月10日　実験\\てすりとキネクト（てすり）\\データ分析\\Kinect\\pos_20240910182202.csvのデータが C:\\Users\\miyazakipc\\Desktop\\2024年9月10日　実験\\てすりとキネクト（てすり）\\データ分析\\Kinect\\抽出後Kinect\\output_10.csv に保存されました。\n",
      "C:\\Users\\miyazakipc\\Desktop\\2024年9月10日　実験\\てすりとキネクト（てすり）\\データ分析\\Kinect\\pos_20240910182950.csvのデータが C:\\Users\\miyazakipc\\Desktop\\2024年9月10日　実験\\てすりとキネクト（てすり）\\データ分析\\Kinect\\抽出後Kinect\\output_11.csv に保存されました。\n",
      "C:\\Users\\miyazakipc\\Desktop\\2024年9月10日　実験\\てすりとキネクト（てすり）\\データ分析\\Kinect\\pos_20240910183014.csvのデータが C:\\Users\\miyazakipc\\Desktop\\2024年9月10日　実験\\てすりとキネクト（てすり）\\データ分析\\Kinect\\抽出後Kinect\\output_12.csv に保存されました。\n",
      "C:\\Users\\miyazakipc\\Desktop\\2024年9月10日　実験\\てすりとキネクト（てすり）\\データ分析\\Kinect\\pos_20240910183039.csvのデータが C:\\Users\\miyazakipc\\Desktop\\2024年9月10日　実験\\てすりとキネクト（てすり）\\データ分析\\Kinect\\抽出後Kinect\\output_13.csv に保存されました。\n",
      "C:\\Users\\miyazakipc\\Desktop\\2024年9月10日　実験\\てすりとキネクト（てすり）\\データ分析\\Kinect\\pos_20240910183103.csvのデータが C:\\Users\\miyazakipc\\Desktop\\2024年9月10日　実験\\てすりとキネクト（てすり）\\データ分析\\Kinect\\抽出後Kinect\\output_14.csv に保存されました。\n",
      "C:\\Users\\miyazakipc\\Desktop\\2024年9月10日　実験\\てすりとキネクト（てすり）\\データ分析\\Kinect\\pos_20240910183126.csvのデータが C:\\Users\\miyazakipc\\Desktop\\2024年9月10日　実験\\てすりとキネクト（てすり）\\データ分析\\Kinect\\抽出後Kinect\\output_15.csv に保存されました。\n",
      "C:\\Users\\miyazakipc\\Desktop\\2024年9月10日　実験\\てすりとキネクト（てすり）\\データ分析\\Kinect\\pos_20240910183149.csvのデータが C:\\Users\\miyazakipc\\Desktop\\2024年9月10日　実験\\てすりとキネクト（てすり）\\データ分析\\Kinect\\抽出後Kinect\\output_16.csv に保存されました。\n",
      "C:\\Users\\miyazakipc\\Desktop\\2024年9月10日　実験\\てすりとキネクト（てすり）\\データ分析\\Kinect\\pos_20240910183211.csvのデータが C:\\Users\\miyazakipc\\Desktop\\2024年9月10日　実験\\てすりとキネクト（てすり）\\データ分析\\Kinect\\抽出後Kinect\\output_17.csv に保存されました。\n",
      "C:\\Users\\miyazakipc\\Desktop\\2024年9月10日　実験\\てすりとキネクト（てすり）\\データ分析\\Kinect\\pos_20240910183234.csvのデータが C:\\Users\\miyazakipc\\Desktop\\2024年9月10日　実験\\てすりとキネクト（てすり）\\データ分析\\Kinect\\抽出後Kinect\\output_18.csv に保存されました。\n",
      "C:\\Users\\miyazakipc\\Desktop\\2024年9月10日　実験\\てすりとキネクト（てすり）\\データ分析\\Kinect\\pos_20240910183255.csvのデータが C:\\Users\\miyazakipc\\Desktop\\2024年9月10日　実験\\てすりとキネクト（てすり）\\データ分析\\Kinect\\抽出後Kinect\\output_19.csv に保存されました。\n",
      "C:\\Users\\miyazakipc\\Desktop\\2024年9月10日　実験\\てすりとキネクト（てすり）\\データ分析\\Kinect\\pos_20240910183322.csvのデータが C:\\Users\\miyazakipc\\Desktop\\2024年9月10日　実験\\てすりとキネクト（てすり）\\データ分析\\Kinect\\抽出後Kinect\\output_20.csv に保存されました。\n",
      "C:\\Users\\miyazakipc\\Desktop\\2024年9月10日　実験\\てすりとキネクト（てすり）\\データ分析\\Kinect\\pos_20240910184204.csvのデータが C:\\Users\\miyazakipc\\Desktop\\2024年9月10日　実験\\てすりとキネクト（てすり）\\データ分析\\Kinect\\抽出後Kinect\\output_21.csv に保存されました。\n",
      "C:\\Users\\miyazakipc\\Desktop\\2024年9月10日　実験\\てすりとキネクト（てすり）\\データ分析\\Kinect\\pos_20240910184229.csvのデータが C:\\Users\\miyazakipc\\Desktop\\2024年9月10日　実験\\てすりとキネクト（てすり）\\データ分析\\Kinect\\抽出後Kinect\\output_22.csv に保存されました。\n",
      "C:\\Users\\miyazakipc\\Desktop\\2024年9月10日　実験\\てすりとキネクト（てすり）\\データ分析\\Kinect\\pos_20240910184251.csvのデータが C:\\Users\\miyazakipc\\Desktop\\2024年9月10日　実験\\てすりとキネクト（てすり）\\データ分析\\Kinect\\抽出後Kinect\\output_23.csv に保存されました。\n",
      "C:\\Users\\miyazakipc\\Desktop\\2024年9月10日　実験\\てすりとキネクト（てすり）\\データ分析\\Kinect\\pos_20240910184316.csvのデータが C:\\Users\\miyazakipc\\Desktop\\2024年9月10日　実験\\てすりとキネクト（てすり）\\データ分析\\Kinect\\抽出後Kinect\\output_24.csv に保存されました。\n",
      "C:\\Users\\miyazakipc\\Desktop\\2024年9月10日　実験\\てすりとキネクト（てすり）\\データ分析\\Kinect\\pos_20240910184339.csvのデータが C:\\Users\\miyazakipc\\Desktop\\2024年9月10日　実験\\てすりとキネクト（てすり）\\データ分析\\Kinect\\抽出後Kinect\\output_25.csv に保存されました。\n",
      "C:\\Users\\miyazakipc\\Desktop\\2024年9月10日　実験\\てすりとキネクト（てすり）\\データ分析\\Kinect\\pos_20240910184404.csvのデータが C:\\Users\\miyazakipc\\Desktop\\2024年9月10日　実験\\てすりとキネクト（てすり）\\データ分析\\Kinect\\抽出後Kinect\\output_26.csv に保存されました。\n",
      "C:\\Users\\miyazakipc\\Desktop\\2024年9月10日　実験\\てすりとキネクト（てすり）\\データ分析\\Kinect\\pos_20240910184428.csvのデータが C:\\Users\\miyazakipc\\Desktop\\2024年9月10日　実験\\てすりとキネクト（てすり）\\データ分析\\Kinect\\抽出後Kinect\\output_27.csv に保存されました。\n",
      "C:\\Users\\miyazakipc\\Desktop\\2024年9月10日　実験\\てすりとキネクト（てすり）\\データ分析\\Kinect\\pos_20240910184451.csvのデータが C:\\Users\\miyazakipc\\Desktop\\2024年9月10日　実験\\てすりとキネクト（てすり）\\データ分析\\Kinect\\抽出後Kinect\\output_28.csv に保存されました。\n",
      "C:\\Users\\miyazakipc\\Desktop\\2024年9月10日　実験\\てすりとキネクト（てすり）\\データ分析\\Kinect\\pos_20240910184516.csvのデータが C:\\Users\\miyazakipc\\Desktop\\2024年9月10日　実験\\てすりとキネクト（てすり）\\データ分析\\Kinect\\抽出後Kinect\\output_29.csv に保存されました。\n",
      "C:\\Users\\miyazakipc\\Desktop\\2024年9月10日　実験\\てすりとキネクト（てすり）\\データ分析\\Kinect\\pos_20240910184539.csvのデータが C:\\Users\\miyazakipc\\Desktop\\2024年9月10日　実験\\てすりとキネクト（てすり）\\データ分析\\Kinect\\抽出後Kinect\\output_30.csv に保存されました。\n",
      "すべてのファイルの処理が完了しました。\n"
     ]
    }
   ],
   "source": [
    "import pandas as pd\n",
    "import os\n",
    "#Kinectの抽出：手すりセンサの最大値と対応\n",
    "#ヘッダーに注意\n",
    "\n",
    "# フォルダのパス\n",
    "input_folder_path = \"C:\\\\Users\\\\miyazakipc\\\\Desktop\\\\2024年9月10日　実験\\\\てすりとキネクト（てすり）\\\\データ分析\\\\Kinect\"\n",
    "output_folder_path = \"C:\\\\Users\\\\miyazakipc\\\\Desktop\\\\2024年9月10日　実験\\\\てすりとキネクト（てすり）\\\\データ分析\\\\Kinect\\\\抽出後Kinect\"\n",
    "#手すりセンサの最大値と対応しているインデクス\n",
    "row_numbers = [259, 328, 214, 206, 216, 193, 195, 210, 181, 194, 250, 271, 270, 261, 245, 243, 261, 246, 286, 283, 287, 250, 281, 261, 263, 262, 285, 290, 262, 275]  # 各ファイルに対応する行数\n",
    "rows_to_include = 60  # 前後指定する行数(60+1+60 = 121)\n",
    "\n",
    "# フォルダ内のファイルリストを取得\n",
    "files = sorted(os.listdir(input_folder_path))\n",
    "\n",
    "# 各ファイルごとに処理\n",
    "for i, file in enumerate(files):\n",
    "    if file.endswith(\".csv\"):\n",
    "        input_csv_path = os.path.join(input_folder_path, file)\n",
    "        output_csv_path = os.path.join(output_folder_path, f\"output_{i+1}.csv\")\n",
    "        row_number = row_numbers[i]\n",
    "\n",
    "        # データの読み込み\n",
    "        df = pd.read_csv(input_csv_path,header=None)\n",
    "\n",
    "        # 行の抽出\n",
    "        start_row = max(0, row_number - rows_to_include - 1)\n",
    "        end_row = min(len(df), row_number + rows_to_include)\n",
    "        subset_df = df.iloc[start_row:end_row]\n",
    "\n",
    "        # データの保存\n",
    "        subset_df.to_csv(output_csv_path, index=False,header=None)\n",
    "\n",
    "        print(f\"{input_csv_path}のデータが {output_csv_path} に保存されました。\")\n",
    "\n",
    "print(\"すべてのファイルの処理が完了しました。\")\n"
   ]
  },
  {
   "cell_type": "code",
   "execution_count": null,
   "id": "58b8ae2b-9cd0-458e-a89d-34a219db6c4e",
   "metadata": {},
   "outputs": [],
   "source": []
  },
  {
   "cell_type": "code",
   "execution_count": null,
   "id": "50ed8395-96a8-489f-833e-0b19f04f5fd4",
   "metadata": {},
   "outputs": [],
   "source": []
  }
 ],
 "metadata": {
  "kernelspec": {
   "display_name": "Python (test)",
   "language": "python",
   "name": "test"
  },
  "language_info": {
   "codemirror_mode": {
    "name": "ipython",
    "version": 3
   },
   "file_extension": ".py",
   "mimetype": "text/x-python",
   "name": "python",
   "nbconvert_exporter": "python",
   "pygments_lexer": "ipython3",
   "version": "3.11.9"
  }
 },
 "nbformat": 4,
 "nbformat_minor": 5
}
