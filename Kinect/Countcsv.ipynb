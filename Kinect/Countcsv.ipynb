{
 "cells": [
  {
   "cell_type": "code",
   "execution_count": 1,
   "id": "623c31a2-e5e3-4bba-817e-2b1b66797937",
   "metadata": {},
   "outputs": [
    {
     "name": "stdout",
     "output_type": "stream",
     "text": [
      "「output」という文字を含むcsvファイルの数: 450\n"
     ]
    }
   ],
   "source": [
    "import os\n",
    "import glob\n",
    "\n",
    "def count_output_csv_files(directory):\n",
    "    # 再帰的にすべてのファイルを検索\n",
    "    all_files = glob.glob(os.path.join(directory, '**', '*'), recursive=True)\n",
    "    # \"output\"を含む.csvファイルの数をカウント\n",
    "    output_csv_count = len([file for file in all_files if os.path.isfile(file) and 'output' in os.path.basename(file) and file.endswith('.csv')])\n",
    "    return output_csv_count\n",
    "\n",
    "# 指定するフォルダのパス\n",
    "directory = \"C:\\\\Users\\\\miyazakipc\\\\Desktop\\\\酒井さんデータ\\\\高齢者実験\\\\kinect\\\\処理結果\"\n",
    "\n",
    "output_csv_count = count_output_csv_files(directory)\n",
    "print(f'「output」という文字を含むcsvファイルの数: {output_csv_count}')\n"
   ]
  },
  {
   "cell_type": "code",
   "execution_count": null,
   "id": "2ab22c48-7bf2-4320-a1b3-7b16e52ce970",
   "metadata": {},
   "outputs": [],
   "source": []
  }
 ],
 "metadata": {
  "kernelspec": {
   "display_name": "Python (test)",
   "language": "python",
   "name": "test"
  },
  "language_info": {
   "codemirror_mode": {
    "name": "ipython",
    "version": 3
   },
   "file_extension": ".py",
   "mimetype": "text/x-python",
   "name": "python",
   "nbconvert_exporter": "python",
   "pygments_lexer": "ipython3",
   "version": "3.11.9"
  }
 },
 "nbformat": 4,
 "nbformat_minor": 5
}
