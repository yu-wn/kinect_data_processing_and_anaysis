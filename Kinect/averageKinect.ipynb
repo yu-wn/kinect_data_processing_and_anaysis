{
 "cells": [
  {
   "cell_type": "code",
   "execution_count": 27,
   "id": "d0598c08-c30d-40d2-8847-97bc2669d596",
   "metadata": {},
   "outputs": [
    {
     "name": "stdout",
     "output_type": "stream",
     "text": [
      "Found 10 CSV files.\n",
      "Mean dataframe shape: (121, 99)\n",
      "Saved average to C:\\Users\\miyazakipc\\Desktop\\2024年9月10日　実験\\てすりとキネクト（てすり）\\データ分析\\Kinect\\抽出後Kinect\\平均\\Average3.csv\n"
     ]
    }
   ],
   "source": [
    "#抽出後のキネクトに対して平均をとる\n",
    "#入力フォルダは手動で作成\n",
    "import pandas as pd\n",
    "import glob\n",
    "import os\n",
    "\n",
    "# 元のCSVファイルのパス\n",
    "input_path = r\"C:\\Users\\miyazakipc\\Desktop\\抽出後Kinect1\"\n",
    "output_path = r\"C:\\Users\\miyazakipc\\Desktop\\2024年9月10日　実験\\てすりとキネクト（てすり）\\データ分析\\Kinect\\抽出後Kinect\\平均\"\n",
    "# 平均を保存するファイルのパス\n",
    "output_file = os.path.join(output_path, \"Average3.csv\")\n",
    "\n",
    "# CSVファイルのリストを取得し、ソート\n",
    "csv_files = sorted(glob.glob(os.path.join(input_path, \"*.csv\")))\n",
    "print(f\"Found {len(csv_files)} CSV files.\")\n",
    "\n",
    "# ファイルが10個あることを確認\n",
    "if len(csv_files) != 10:\n",
    "    raise ValueError(\"10個のCSVファイルが必要です。\")\n",
    "\n",
    "# 各ファイルをDataFrameとして読み込み、合計を計算\n",
    "df_sum = pd.read_csv(csv_files[0], header=None)  # 最初のファイルを読み込み\n",
    "for file in csv_files[1:]:\n",
    "    df = pd.read_csv(file, header=None)  # 他のファイルを順次読み込み\n",
    "    df_sum += df  # 各ファイルのデータを加算\n",
    "\n",
    "# 合計を10で割って平均を計算\n",
    "df_mean = df_sum / 10\n",
    "print(f\"Mean dataframe shape: {df_mean.shape}\")\n",
    "\n",
    "# 結果を保存\n",
    "df_mean.to_csv(output_file, index=False, header=False)\n",
    "print(f\"Saved average to {output_file}\")\n"
   ]
  },
  {
   "cell_type": "code",
   "execution_count": null,
   "id": "576de3a7-8fbc-45d6-a92a-7f2e8fa86a01",
   "metadata": {},
   "outputs": [],
   "source": []
  }
 ],
 "metadata": {
  "kernelspec": {
   "display_name": "Python (test)",
   "language": "python",
   "name": "test"
  },
  "language_info": {
   "codemirror_mode": {
    "name": "ipython",
    "version": 3
   },
   "file_extension": ".py",
   "mimetype": "text/x-python",
   "name": "python",
   "nbconvert_exporter": "python",
   "pygments_lexer": "ipython3",
   "version": "3.11.9"
  }
 },
 "nbformat": 4,
 "nbformat_minor": 5
}
