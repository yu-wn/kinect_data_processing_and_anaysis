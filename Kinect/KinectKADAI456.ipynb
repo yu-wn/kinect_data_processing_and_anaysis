{
 "cells": [
  {
   "cell_type": "code",
   "execution_count": 21,
   "id": "7771c9ce-5012-4e1c-a8b5-1c960fae50f3",
   "metadata": {},
   "outputs": [],
   "source": [
    "#課題４：点群データの可視化\n",
    "import open3d as o3d\n",
    "\n",
    "pcd1 = o3d.io.read_point_cloud(\"C:\\\\Users\\\\miyazakipc\\\\Desktop\\\\2024年9月10日　実験\\\\1.pcd\")\n",
    "\n",
    "o3d.visualization.draw_geometries([pcd1])"
   ]
  },
  {
   "cell_type": "code",
   "execution_count": null,
   "id": "177ea2b3-1c87-4b9c-9822-fddcdecadcb0",
   "metadata": {},
   "outputs": [],
   "source": [
    "#課題５：点群データ上に骨格座標を表示\n",
    "import open3d as o3d\n",
    "import pandas as pd\n",
    "\n",
    "\n",
    "pcd1 = o3d.io.read_point_cloud(\"C:\\\\Users\\\\miyazakipc\\\\Desktop\\\\2024年9月10日　実験\\\\3.pcd\")\n",
    "pcd2 = o3d.geometry.PointCloud()\n",
    "df = pd.read_csv(\"C:\\\\Users\\\\miyazakipc\\\\Desktop\\\\2024年9月10日　実験\\\\Kinect\\\\1回目\\\\pos_20240910181810.csv\", header=None)\n",
    "array = df.to_numpy()\n",
    "array1 = array[100, 2:83] * 1000 #静止画として１フレーム適当に選択\n",
    "\n",
    "array2 = array1.reshape(27, 3)\n",
    "\n",
    "pcd2.points = o3d.utility.Vector3dVector(array2)\n",
    "\n",
    "o3d.visualization.draw_geometries([pcd1, pcd2])\n"
   ]
  },
  {
   "cell_type": "code",
   "execution_count": 51,
   "id": "9458e5fc-b731-4cf8-974e-8a49c1a94f85",
   "metadata": {},
   "outputs": [],
   "source": [
    "#課題6：点群データ上に腰移動の軌跡を表示\n",
    "import open3d as o3d\n",
    "import pandas as pd\n",
    "\n",
    "pcd1 = o3d.io.read_point_cloud(\"C:\\\\Users\\\\miyazakipc\\\\Desktop\\\\2024年9月10日　実験\\\\3.pcd\")\n",
    "pcd2 = o3d.geometry.PointCloud()\n",
    "df = pd.read_csv(\"C:\\\\Users\\\\miyazakipc\\\\Desktop\\\\2024年9月10日　実験\\\\Kinect\\\\1回目\\\\pos_20240910181810.csv\", header=None)\n",
    "array = df.to_numpy()\n",
    "array1 = array[:, 2:5] * 1000\n",
    "\n",
    "pcd2.points = o3d.utility.Vector3dVector(array1)\n",
    "\n",
    "o3d.visualization.draw_geometries([pcd1, pcd2])\n"
   ]
  },
  {
   "cell_type": "code",
   "execution_count": null,
   "id": "f5b1f3c9-4950-44bd-a46d-85d724feda2e",
   "metadata": {},
   "outputs": [],
   "source": []
  }
 ],
 "metadata": {
  "kernelspec": {
   "display_name": "Python (test)",
   "language": "python",
   "name": "test"
  },
  "language_info": {
   "codemirror_mode": {
    "name": "ipython",
    "version": 3
   },
   "file_extension": ".py",
   "mimetype": "text/x-python",
   "name": "python",
   "nbconvert_exporter": "python",
   "pygments_lexer": "ipython3",
   "version": "3.11.9"
  }
 },
 "nbformat": 4,
 "nbformat_minor": 5
}
